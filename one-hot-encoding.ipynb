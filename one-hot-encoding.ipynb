{
 "cells": [
  {
   "cell_type": "code",
   "execution_count": 4,
   "id": "140c24ef",
   "metadata": {},
   "outputs": [],
   "source": [
    "# one hot encoding using OneHotEncoder of sci-kit learn\n",
    "import pandas as pd\n",
    "from sklearn.preprocessing import OneHotEncoder"
   ]
  },
  {
   "cell_type": "code",
   "execution_count": 6,
   "id": "1a4bf5cb",
   "metadata": {},
   "outputs": [
    {
     "name": "stdout",
     "output_type": "stream",
     "text": [
      "Employee data : \n",
      "   Employee Id Gender Remarks\n",
      "0           10      M    Good\n",
      "1           15      F    Nice\n",
      "2           20      F    Good\n",
      "3           25      M   Great\n",
      "4           30      F    Nice\n"
     ]
    }
   ],
   "source": [
    "# building a dummy employee dataset for example\n",
    "data = {\n",
    "    'Employee Id':[10,15,20,25,30],\n",
    "    'Gender':[\"M\",\"F\",\"F\",\"M\",'F'],\n",
    "    'Remarks':['Good','Nice','Good','Great','Nice']\n",
    "}\n",
    "\n",
    "# converting inta a pandas dataframe\n",
    "df = pd.DataFrame(data)\n",
    "\n",
    "# print the data frame\n",
    "print(f\"Employee data : \\n{df}\")"
   ]
  },
  {
   "cell_type": "code",
   "execution_count": 7,
   "id": "391e7250",
   "metadata": {},
   "outputs": [
    {
     "name": "stdout",
     "output_type": "stream",
     "text": [
      "Encoded Employee Data : \n",
      "   Employee Id  Gender_F  Gender_M  Remarks_Good  Remarks_Great  Remarks_Nice\n",
      "0           10       0.0       1.0           1.0            0.0           0.0\n",
      "1           15       1.0       0.0           0.0            0.0           1.0\n",
      "2           20       1.0       0.0           1.0            0.0           0.0\n",
      "3           25       0.0       1.0           0.0            1.0           0.0\n",
      "4           30       1.0       0.0           0.0            0.0           1.0\n"
     ]
    }
   ],
   "source": [
    "# extract categorical columns from the data frame\n",
    "# here we extract the columns with object datatype as they are categorical columns\n",
    "categorical_columns = df.select_dtypes(include=['object']).columns.tolist()\n",
    "\n",
    "# initial OneHotEncoder\n",
    "encoder = OneHotEncoder(sparse_output=False)\n",
    "\n",
    "# apply one-hot encoding to the categorical columns\n",
    "one_hot_encoded = encoder.fit_transform(df[categorical_columns])\n",
    "\n",
    "# create a dataframe with one hot encoded columns\n",
    "# we use get_feature_names_out() to get the column names of the encoded data\n",
    "one_hot_df = pd.DataFrame(one_hot_encoded,columns=encoder.get_feature_names_out(categorical_columns))\n",
    "\n",
    "# concatenate the one-hot encoded dataframe with the original dataframe\n",
    "df_encoded=pd.concat([df,one_hot_df],axis=1)\n",
    "\n",
    "# drop the original categorical columns \n",
    "df_encoded = df_encoded.drop(categorical_columns,axis=1)\n",
    "\n",
    "# display the resulting dataframe\n",
    "print(f\"Encoded Employee Data : \\n{df_encoded}\")"
   ]
  },
  {
   "cell_type": "code",
   "execution_count": null,
   "id": "f5ccb847",
   "metadata": {},
   "outputs": [],
   "source": [
    "#### FEED IT TO THE ML ALGORITHM"
   ]
  }
 ],
 "metadata": {
  "kernelspec": {
   "display_name": "Python 3",
   "language": "python",
   "name": "python3"
  },
  "language_info": {
   "codemirror_mode": {
    "name": "ipython",
    "version": 3
   },
   "file_extension": ".py",
   "mimetype": "text/x-python",
   "name": "python",
   "nbconvert_exporter": "python",
   "pygments_lexer": "ipython3",
   "version": "3.12.4"
  }
 },
 "nbformat": 4,
 "nbformat_minor": 5
}
